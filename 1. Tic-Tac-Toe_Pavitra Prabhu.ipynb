{
 "cells": [
  {
   "cell_type": "markdown",
   "metadata": {},
   "source": [
    "# Milestone Project 1: Walkthrough Steps Workbook\n",
    "\n",
    "Below is a set of steps for you to follow to try to create the Tic Tac Toe Milestone Project game!"
   ]
  },
  {
   "cell_type": "markdown",
   "metadata": {},
   "source": [
    "#### Some suggested tools before you get started:\n",
    "To take input from a user:\n",
    "\n",
    "    player1 = input(\"Please pick a marker 'X' or 'O'\")\n",
    "    \n",
    "Note that input() takes in a string. If you need an integer value, use\n",
    "\n",
    "    position = int(input('Please enter a number'))\n",
    "    \n",
    "<br>To clear the screen between moves:\n",
    "\n",
    "    from IPython.display import clear_output\n",
    "    clear_output()\n",
    "    \n",
    "Note that clear_output() will only work in jupyter. To clear the screen in other IDEs, consider:\n",
    "\n",
    "    print('\\n'*100)\n",
    "    \n",
    "This scrolls the previous board up out of view. Now on to the program!"
   ]
  },
  {
   "cell_type": "markdown",
   "metadata": {},
   "source": [
    "**Step 1: Write a function that can print out a board. Set up your board as a list, where each index 1-9 corresponds with a number on a number pad, so you get a 3 by 3 board representation.**"
   ]
  },
  {
   "cell_type": "code",
   "execution_count": 27,
   "metadata": {},
   "outputs": [],
   "source": [
    "from IPython.display import clear_output\n",
    "\n",
    "def display_board(board):\n",
    "    clear_output()\n",
    "    print(\"*******************************************\")\n",
    "    print('        Welcome to Tic Tac Toe!            ')\n",
    "    print(\"*******************************************\")\n",
    "    print(\"               BOARD FORMAT\")\n",
    "    print (\"                 1|2|3\")\n",
    "    print (\"                 4|5|6\")\n",
    "    print (\"                 7|8|9\")\n",
    "    print(\"*******************************************\")\n",
    "    print(\"*******************************************\")\n",
    "    print(\"\\n\")\n",
    "    print (\"                |     |     \")\n",
    "    print (\"            {}   |  {}  | {}\".format(board[1],board[2],board[3]))\n",
    "    print (\"                |     |     \")\n",
    "    print (\"           -----------------\")\n",
    "    print (\"                |     |     \")\n",
    "    print (\"            {}   |  {}  | {}   \".format(board[4],board[5],board[6]))\n",
    "    print (\"                |     |     \")\n",
    "    print (\"           -----------------\")\n",
    "    print (\"                |     |     \")\n",
    "    print (\"            {}   |  {}  | {}   \".format(board[7],board[8],board[9]))\n",
    "    print (\"                |     |     \")\n",
    "    "
   ]
  },
  {
   "cell_type": "markdown",
   "metadata": {},
   "source": [
    "**TEST Step 1:** run your function on a test version of the board list, and make adjustments as necessary"
   ]
  },
  {
   "cell_type": "code",
   "execution_count": 28,
   "metadata": {},
   "outputs": [
    {
     "name": "stdout",
     "output_type": "stream",
     "text": [
      "*******************************************\n",
      "        Welcome to Tic Tac Toe!            \n",
      "*******************************************\n",
      "               BOARD FORMAT\n",
      "                 1|2|3\n",
      "                 4|5|6\n",
      "                 7|8|9\n",
      "*******************************************\n",
      "*******************************************\n",
      "\n",
      "\n",
      "                |     |     \n",
      "                |     |  \n",
      "                |     |     \n",
      "           -----------------\n",
      "                |     |     \n",
      "                |     |     \n",
      "                |     |     \n",
      "           -----------------\n",
      "                |     |     \n",
      "                |     |     \n",
      "                |     |     \n"
     ]
    }
   ],
   "source": [
    "test_board = ['#',' ',' ',' ',' ',' ',' ',' ',' ',' ']\n",
    "display_board(test_board)"
   ]
  },
  {
   "cell_type": "markdown",
   "metadata": {},
   "source": [
    "**Step 2: Write a function that can take in a player input and assign their marker as 'X' or 'O'. Think about using *while* loops to continually ask until you get a correct answer.**"
   ]
  },
  {
   "cell_type": "code",
   "execution_count": 3,
   "metadata": {},
   "outputs": [],
   "source": [
    "def player_input():\n",
    "    '''\n",
    "    The function will return a tuple (player 1 marker , player 2 marker)\n",
    "    '''\n",
    "    player1=\"\"\n",
    "    while (player1 not in ('X','O')):\n",
    "        player1= input (\"Please choose a marker for PLAYER 1: \").upper()\n",
    "        if (player1 not in ('X','O')):\n",
    "            print (\"Incorrect Marker !! Please TRY AGAIN!! \\n\")\n",
    "            \n",
    "    if player1=='X':\n",
    "        return ('X','O')\n",
    "    else:\n",
    "        return ('O','X')\n"
   ]
  },
  {
   "cell_type": "markdown",
   "metadata": {},
   "source": [
    "**TEST Step 2:** run the function to make sure it returns the desired output"
   ]
  },
  {
   "cell_type": "code",
   "execution_count": 4,
   "metadata": {},
   "outputs": [
    {
     "name": "stdout",
     "output_type": "stream",
     "text": [
      "Please choose a marker for PLAYER 1: x\n"
     ]
    },
    {
     "data": {
      "text/plain": [
       "('X', 'O')"
      ]
     },
     "execution_count": 4,
     "metadata": {},
     "output_type": "execute_result"
    }
   ],
   "source": [
    "player_input()"
   ]
  },
  {
   "cell_type": "markdown",
   "metadata": {},
   "source": [
    "**Step 3: Write a function that takes in the board list object, a marker ('X' or 'O'), and a desired position (number 1-9) and assigns it to the board.**"
   ]
  },
  {
   "cell_type": "code",
   "execution_count": 5,
   "metadata": {},
   "outputs": [],
   "source": [
    "def place_marker(board, marker, position):\n",
    "    board [position] = marker"
   ]
  },
  {
   "cell_type": "markdown",
   "metadata": {},
   "source": [
    "**TEST Step 3:** run the place marker function using test parameters and display the modified board"
   ]
  },
  {
   "cell_type": "code",
   "execution_count": 6,
   "metadata": {},
   "outputs": [
    {
     "name": "stdout",
     "output_type": "stream",
     "text": [
      "*******************************************\n",
      "        Welcome to Tic Tac Toe!            \n",
      "*******************************************\n",
      "\n",
      "\n",
      "                |     |     \n",
      "                |  X  |  \n",
      "                |     |     \n",
      "           -----------------\n",
      "                |     |     \n",
      "                |     |     \n",
      "                |     |     \n",
      "           -----------------\n",
      "                |     |     \n",
      "                |     |     \n",
      "                |     |     \n"
     ]
    }
   ],
   "source": [
    "place_marker(test_board,'X',2)\n",
    "display_board(test_board)"
   ]
  },
  {
   "cell_type": "markdown",
   "metadata": {},
   "source": [
    "**Step 4: Write a function that takes in a board and a mark (X or O) and then checks to see if that mark has won. **"
   ]
  },
  {
   "cell_type": "code",
   "execution_count": 38,
   "metadata": {},
   "outputs": [],
   "source": [
    "def win_check(board, mark):\n",
    "    return ((board[1]==mark and board[2]==mark and board[3]==mark) or # Row 1\n",
    "            (board[4]==mark and board[5]==mark and board[6]==mark) or\n",
    "            (board[7]==mark and board[8]==mark and board[9]==mark) or\n",
    "            (board[1]==mark and board[4]==mark and board[7]==mark) or \n",
    "            (board[2]==mark and board[5]==mark and board[8]==mark) or\n",
    "            (board[3]==mark and board[6]==mark and board[9]==mark) or\n",
    "            (board[1]==mark and board[5]==mark and board[9]==mark) or\n",
    "            (board[3]==mark and board[5]==mark and board[7]==mark))"
   ]
  },
  {
   "cell_type": "code",
   "execution_count": null,
   "metadata": {},
   "outputs": [],
   "source": []
  },
  {
   "cell_type": "markdown",
   "metadata": {},
   "source": [
    "**TEST Step 4:** run the win_check function against our test_board - it should return True"
   ]
  },
  {
   "cell_type": "code",
   "execution_count": 8,
   "metadata": {},
   "outputs": [
    {
     "data": {
      "text/plain": [
       "False"
      ]
     },
     "execution_count": 8,
     "metadata": {},
     "output_type": "execute_result"
    }
   ],
   "source": [
    "win_check(test_board,'X')"
   ]
  },
  {
   "cell_type": "code",
   "execution_count": 9,
   "metadata": {},
   "outputs": [
    {
     "data": {
      "text/plain": [
       "1"
      ]
     },
     "execution_count": 9,
     "metadata": {},
     "output_type": "execute_result"
    }
   ],
   "source": [
    "import random\n",
    "random.randint(1,2)"
   ]
  },
  {
   "cell_type": "markdown",
   "metadata": {},
   "source": [
    "**Step 5: Write a function that uses the random module to randomly decide which player goes first. You may want to lookup random.randint() Return a string of which player went first.**"
   ]
  },
  {
   "cell_type": "code",
   "execution_count": 10,
   "metadata": {},
   "outputs": [],
   "source": [
    "import random\n",
    "\n",
    "def choose_first():\n",
    "    return random.randint(1,2)"
   ]
  },
  {
   "cell_type": "markdown",
   "metadata": {},
   "source": [
    "**Step 6: Write a function that returns a boolean indicating whether a space on the board is freely available.**"
   ]
  },
  {
   "cell_type": "code",
   "execution_count": 11,
   "metadata": {},
   "outputs": [],
   "source": [
    "def space_check(board, position):\n",
    "    return board[position]==\" \""
   ]
  },
  {
   "cell_type": "code",
   "execution_count": 12,
   "metadata": {},
   "outputs": [
    {
     "data": {
      "text/plain": [
       "True"
      ]
     },
     "execution_count": 12,
     "metadata": {},
     "output_type": "execute_result"
    }
   ],
   "source": [
    "space_check(test_board,1)"
   ]
  },
  {
   "cell_type": "code",
   "execution_count": 13,
   "metadata": {},
   "outputs": [
    {
     "data": {
      "text/plain": [
       "['#', ' ', 'X', ' ', ' ', ' ', ' ', ' ', ' ', ' ']"
      ]
     },
     "execution_count": 13,
     "metadata": {},
     "output_type": "execute_result"
    }
   ],
   "source": [
    "test_board"
   ]
  },
  {
   "cell_type": "markdown",
   "metadata": {},
   "source": [
    "**Step 7: Write a function that checks if the board is full and returns a boolean value. True if full, False otherwise.**"
   ]
  },
  {
   "cell_type": "code",
   "execution_count": 14,
   "metadata": {},
   "outputs": [],
   "source": [
    "def full_board_check(board):\n",
    "    for i in board:\n",
    "        if i==\" \":\n",
    "            return False\n",
    "    return True"
   ]
  },
  {
   "cell_type": "code",
   "execution_count": 15,
   "metadata": {},
   "outputs": [
    {
     "data": {
      "text/plain": [
       "False"
      ]
     },
     "execution_count": 15,
     "metadata": {},
     "output_type": "execute_result"
    }
   ],
   "source": [
    "full_board_check(test_board)"
   ]
  },
  {
   "cell_type": "markdown",
   "metadata": {},
   "source": [
    "**Step 8: Write a function that asks for a player's next position (as a number 1-9) and then uses the function from step 6 to check if it's a free position. If it is, then return the position for later use.**"
   ]
  },
  {
   "cell_type": "code",
   "execution_count": 16,
   "metadata": {},
   "outputs": [],
   "source": [
    "def player_choice(board):\n",
    "    loop=True\n",
    "    while loop:\n",
    "        try:\n",
    "            next_position = int(input(\"Please Enter Your Next Position :\"))\n",
    "            if space_check(board,next_position):\n",
    "                return next_position\n",
    "                break\n",
    "            else:\n",
    "                print(\"Already Taken!! Please TRY AGAIN \")    \n",
    "        except:\n",
    "            print(\"That's not a valid option! Choose a number between 1 and 9\")"
   ]
  },
  {
   "cell_type": "code",
   "execution_count": 17,
   "metadata": {},
   "outputs": [
    {
     "name": "stdout",
     "output_type": "stream",
     "text": [
      "Please Enter Your Next Position :3\n"
     ]
    },
    {
     "data": {
      "text/plain": [
       "3"
      ]
     },
     "execution_count": 17,
     "metadata": {},
     "output_type": "execute_result"
    }
   ],
   "source": [
    "player_choice(test_board)"
   ]
  },
  {
   "cell_type": "markdown",
   "metadata": {},
   "source": [
    "**Step 9: Write a function that asks the player if they want to play again and returns a boolean True if they do want to play again.**"
   ]
  },
  {
   "cell_type": "code",
   "execution_count": 18,
   "metadata": {},
   "outputs": [],
   "source": [
    "def replay():\n",
    "    choice = input(\"Do you want to Play Again? Y/N ?\").upper()\n",
    "    if choice=='Y':\n",
    "        return True\n",
    "    elif choice=='N':\n",
    "        return False\n",
    "    else:\n",
    "        print(\"Incorrect Entry!! \")\n",
    "        replay()  "
   ]
  },
  {
   "cell_type": "code",
   "execution_count": 19,
   "metadata": {},
   "outputs": [
    {
     "name": "stdout",
     "output_type": "stream",
     "text": [
      "Do you want to Play Again? Y/N ?y\n"
     ]
    },
    {
     "data": {
      "text/plain": [
       "True"
      ]
     },
     "execution_count": 19,
     "metadata": {},
     "output_type": "execute_result"
    }
   ],
   "source": [
    "replay()"
   ]
  },
  {
   "cell_type": "markdown",
   "metadata": {
    "collapsed": true
   },
   "source": [
    "**Step 10: Here comes the hard part! Use while loops and the functions you've made to run the game!**"
   ]
  },
  {
   "cell_type": "code",
   "execution_count": 31,
   "metadata": {},
   "outputs": [
    {
     "name": "stdout",
     "output_type": "stream",
     "text": [
      "*******************************************\n",
      "        Welcome to Tic Tac Toe!            \n",
      "*******************************************\n",
      "               BOARD FORMAT\n",
      "                 1|2|3\n",
      "                 4|5|6\n",
      "                 7|8|9\n",
      "*******************************************\n",
      "*******************************************\n",
      "\n",
      "\n",
      "                |     |     \n",
      "            O   |  X  | O\n",
      "                |     |     \n",
      "           -----------------\n",
      "                |     |     \n",
      "            X   |  X  | O   \n",
      "                |     |     \n",
      "           -----------------\n",
      "                |     |     \n",
      "            X   |  O  |     \n",
      "                |     |     \n",
      "Player 1's Turn\n",
      "Please Enter Your Next Position :9\n",
      "\n",
      "\n",
      "*********GAME OVER*********\n",
      "Do you want to Play Again? Y/N ?n\n",
      "THANKS FOR PLAYING!! BYE\n"
     ]
    }
   ],
   "source": [
    "################ Main Code : TIC TAC TOE #################\n",
    "################ Author : Pavitra Prabhu ################\n",
    "################ Date : 24th April 2019  ################\n",
    "start_game = True\n",
    "\n",
    "while start_game:\n",
    "    \n",
    "    #Reset \n",
    "    first_turn=True\n",
    "    board=['#',' ',' ',' ',' ',' ',' ',' ',' ',' ']\n",
    "    (player1_marker,player2_marker)= player_input()\n",
    " \n",
    "    #While the board is not full\n",
    "    while not full_board_check(board):\n",
    "        \n",
    "        # DISPLAY BOARD \n",
    "        display_board(board)\n",
    "        \n",
    "        if first_turn:\n",
    "            # Randomly choose who goes first!!\n",
    "            first_player=choose_first()\n",
    "            if first_player==1:\n",
    "                player=1\n",
    "                \n",
    "            else:\n",
    "                player=2\n",
    "            print(\"\\n\")\n",
    "            print(\"Player {} goes first!! \".format(first_player))\n",
    "            first_turn=False\n",
    "\n",
    "        #ALTERNATE TURNS\n",
    "        if player==1:\n",
    "            \n",
    "            print(\"Player 1's Turn\")\n",
    "            position = player_choice(board)\n",
    "            marker = player1_marker\n",
    "            place_marker(board,marker,position)\n",
    "           \n",
    "            #Check if player wins\n",
    "            if win_check(board,marker):\n",
    "                display_board(board)\n",
    "                print(\"CONGRATULATIONS!! PLAYER 1 wins\")    \n",
    "                break\n",
    "            else:\n",
    "            \n",
    "            #Next player TURN\n",
    "                player=2\n",
    "        else:\n",
    "            print(\"Player 2's Turn\")\n",
    "            position = player_choice(board)\n",
    "            marker = player2_marker\n",
    "            place_marker(board,marker,position)\n",
    "            \n",
    "            #Check if player wins\n",
    "            if win_check(board,marker):\n",
    "                display_board(board)\n",
    "                print(\"CONGRATULATIONS!! PLAYER 2 wins\")\n",
    "                break\n",
    "            else:\n",
    "\n",
    "                #Next player TURN\n",
    "                player=1\n",
    "                \n",
    "    #If the board is full\n",
    "    if full_board_check(board):\n",
    "        # display_board(board)\n",
    "        print(\"\\n\")\n",
    "        print(\"*********GAME OVER*********\")\n",
    "                 \n",
    "    # Do you want to Play Again ??\n",
    "    if not replay():\n",
    "        print (\"THANKS FOR PLAYING!! BYE\")\n",
    "        play_game=False\n",
    "        break\n",
    "        \n",
    "################ END OF CODE : TIC TAC TOE ################"
   ]
  },
  {
   "cell_type": "code",
   "execution_count": 40,
   "metadata": {},
   "outputs": [
    {
     "data": {
      "text/plain": [
       "1"
      ]
     },
     "execution_count": 40,
     "metadata": {},
     "output_type": "execute_result"
    }
   ],
   "source": [
    "list1=([1,1,1],[4,5,6],[7,8,9])\n",
    "list1[0][0]"
   ]
  },
  {
   "cell_type": "code",
   "execution_count": 41,
   "metadata": {},
   "outputs": [
    {
     "ename": "SyntaxError",
     "evalue": "invalid syntax (<ipython-input-41-5190e5163145>, line 1)",
     "output_type": "error",
     "traceback": [
      "\u001b[0;36m  File \u001b[0;32m\"<ipython-input-41-5190e5163145>\"\u001b[0;36m, line \u001b[0;32m1\u001b[0m\n\u001b[0;31m    list[0][] == 1\u001b[0m\n\u001b[0m            ^\u001b[0m\n\u001b[0;31mSyntaxError\u001b[0m\u001b[0;31m:\u001b[0m invalid syntax\n"
     ]
    }
   ],
   "source": [
    "list[0][] == 1 "
   ]
  },
  {
   "cell_type": "markdown",
   "metadata": {
    "collapsed": true
   },
   "source": [
    "##### Good Job!"
   ]
  }
 ],
 "metadata": {
  "kernelspec": {
   "display_name": "Python 3",
   "language": "python",
   "name": "python3"
  },
  "language_info": {
   "codemirror_mode": {
    "name": "ipython",
    "version": 3
   },
   "file_extension": ".py",
   "mimetype": "text/x-python",
   "name": "python",
   "nbconvert_exporter": "python",
   "pygments_lexer": "ipython3",
   "version": "3.7.3"
  }
 },
 "nbformat": 4,
 "nbformat_minor": 1
}
